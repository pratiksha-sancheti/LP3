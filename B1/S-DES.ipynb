{
 "cells": [
  {
   "cell_type": "markdown",
   "id": "254f8dda",
   "metadata": {},
   "source": [
    "YouTube Link: https://www.youtube.com/watch?v=QcKHfMgcnbw"
   ]
  },
  {
   "cell_type": "code",
   "execution_count": 8,
   "id": "279d29e1",
   "metadata": {},
   "outputs": [],
   "source": [
    "# permutate\n",
    "P10 = [\n",
    "    (1, 3),\n",
    "    (2, 5),\n",
    "    (3, 2),\n",
    "    (4, 7),\n",
    "    (5, 4),\n",
    "    (6, 10),\n",
    "    (7, 1),\n",
    "    (8, 9),\n",
    "    (9, 8),\n",
    "    (10, 6)\n",
    "]"
   ]
  },
  {
   "cell_type": "code",
   "execution_count": 9,
   "id": "75bfa2ed",
   "metadata": {},
   "outputs": [],
   "source": [
    "# select and permutate\n",
    "P8 = [\n",
    "    (1, 6),\n",
    "    (2, 3),\n",
    "    (3, 7),\n",
    "    (4, 4),\n",
    "    (5, 8),\n",
    "    (6, 5),\n",
    "    (7, 10),\n",
    "    (8, 9)\n",
    "]"
   ]
  },
  {
   "cell_type": "code",
   "execution_count": 10,
   "id": "33b10af0",
   "metadata": {},
   "outputs": [],
   "source": [
    "# permutate\n",
    "P4 = [\n",
    "    (1, 2),\n",
    "    (2, 4),\n",
    "    (3, 3),\n",
    "    (4, 1)\n",
    "]"
   ]
  },
  {
   "cell_type": "code",
   "execution_count": 32,
   "id": "b9e94fed",
   "metadata": {},
   "outputs": [],
   "source": [
    "IP = [\n",
    "    (1, 2),\n",
    "    (2, 6),\n",
    "    (3, 3),\n",
    "    (4, 1),\n",
    "    (5, 4),\n",
    "    (6, 8),\n",
    "    (7, 5),\n",
    "    (8, 7)\n",
    "]"
   ]
  },
  {
   "cell_type": "code",
   "execution_count": 44,
   "id": "0b059b6c",
   "metadata": {},
   "outputs": [],
   "source": [
    "EP = [\n",
    "    (1, 4),\n",
    "    (2, 1),\n",
    "    (3, 2),\n",
    "    (4, 3),\n",
    "    (5, 2),\n",
    "    (6, 3),\n",
    "    (7, 4),\n",
    "    (8, 1)\n",
    "]"
   ]
  },
  {
   "cell_type": "markdown",
   "id": "ac0a64ef",
   "metadata": {},
   "source": [
    "##### Get Key and Plain Text"
   ]
  },
  {
   "cell_type": "code",
   "execution_count": 37,
   "id": "f38e6bfd",
   "metadata": {},
   "outputs": [],
   "source": [
    "# get key\n",
    "key = '1010000010'\n",
    "plain_text = '01110010'"
   ]
  },
  {
   "cell_type": "markdown",
   "id": "e5d840d2",
   "metadata": {},
   "source": [
    "##### Generate Subkeys"
   ]
  },
  {
   "cell_type": "markdown",
   "id": "8bba508e",
   "metadata": {},
   "source": [
    "###### 1. Apply P10"
   ]
  },
  {
   "cell_type": "code",
   "execution_count": 38,
   "id": "432a8a03",
   "metadata": {},
   "outputs": [
    {
     "name": "stdout",
     "output_type": "stream",
     "text": [
      "1000001100\n"
     ]
    }
   ],
   "source": [
    "def apply_p10(key: str) -> str:\n",
    "    nkey = [0] * 10\n",
    "    for f, s in P10:\n",
    "        nkey[f-1] = key[s-1]  # zero based indexing\n",
    "    nkey = \"\".join(nkey)\n",
    "    return nkey\n",
    "\n",
    "nkey = apply_p10(key)\n",
    "print(nkey)"
   ]
  },
  {
   "cell_type": "markdown",
   "id": "b06a9b39",
   "metadata": {},
   "source": [
    "###### 2. Split into two halfs and apply one-bit left shift to each"
   ]
  },
  {
   "cell_type": "code",
   "execution_count": 39,
   "id": "082aae06",
   "metadata": {},
   "outputs": [
    {
     "name": "stdout",
     "output_type": "stream",
     "text": [
      "0000111000\n"
     ]
    }
   ],
   "source": [
    "def split_half(key: str) -> tuple:\n",
    "    n = len(key)\n",
    "    mid = n//2\n",
    "    return key[:mid], key[mid:]\n",
    "\n",
    "def left_shift(key: str, shift=1) -> str:\n",
    "    n = len(key)\n",
    "    shift = shift%n\n",
    "    key = key[shift:] + key[:shift]  # left side moves to the end\n",
    "    return key\n",
    "\n",
    "first, second = split_half(nkey)\n",
    "ls1 = left_shift(first) + left_shift(second)\n",
    "print(ls1)"
   ]
  },
  {
   "cell_type": "markdown",
   "id": "9075d4b8",
   "metadata": {},
   "source": [
    "###### 3. Apply P8 to get K1"
   ]
  },
  {
   "cell_type": "code",
   "execution_count": 40,
   "id": "99468224",
   "metadata": {},
   "outputs": [
    {
     "name": "stdout",
     "output_type": "stream",
     "text": [
      "10100100\n"
     ]
    }
   ],
   "source": [
    "def apply_p8(key: str) -> str:\n",
    "    nkey = [0] * 8\n",
    "    for f, s in P8:\n",
    "        nkey[f-1] = key[s-1]  # zero based indexing\n",
    "    nkey = \"\".join(nkey)\n",
    "    return nkey\n",
    "\n",
    "k1 = apply_p8(ls1)\n",
    "print(k1)"
   ]
  },
  {
   "cell_type": "markdown",
   "id": "01b75264",
   "metadata": {},
   "source": [
    "###### 4. Split half (ls1) and perform two-bit left shift to each "
   ]
  },
  {
   "cell_type": "code",
   "execution_count": 41,
   "id": "a084c9bf",
   "metadata": {},
   "outputs": [
    {
     "name": "stdout",
     "output_type": "stream",
     "text": [
      "0010000011\n"
     ]
    }
   ],
   "source": [
    "first, second = split_half(ls1)\n",
    "ls2 = left_shift(first, shift=2) + left_shift(second, shift=2)\n",
    "print(ls2)"
   ]
  },
  {
   "cell_type": "markdown",
   "id": "d9951992",
   "metadata": {},
   "source": [
    "###### 5. Apply P8 to get K2"
   ]
  },
  {
   "cell_type": "code",
   "execution_count": 42,
   "id": "071031ed",
   "metadata": {},
   "outputs": [
    {
     "name": "stdout",
     "output_type": "stream",
     "text": [
      "01000011\n"
     ]
    }
   ],
   "source": [
    "k2 = apply_p8(ls2)\n",
    "print(k2)"
   ]
  },
  {
   "cell_type": "markdown",
   "id": "edcc79c7",
   "metadata": {},
   "source": [
    "##### Encryption"
   ]
  },
  {
   "cell_type": "markdown",
   "id": "5941a099",
   "metadata": {},
   "source": [
    "###### 1. Apply IP"
   ]
  },
  {
   "cell_type": "code",
   "execution_count": 43,
   "id": "4a690243",
   "metadata": {},
   "outputs": [
    {
     "name": "stdout",
     "output_type": "stream",
     "text": [
      "10101001\n"
     ]
    }
   ],
   "source": [
    "def apply_ip(pt: str) -> str:\n",
    "    npt = [0] * 8\n",
    "    for f, s in IP:\n",
    "        npt[f-1] = pt[s-1]  # zero based indexing\n",
    "    npt = \"\".join(npt)\n",
    "    return npt\n",
    "\n",
    "ip = apply_ip(plain_text)\n",
    "print(ip)"
   ]
  },
  {
   "cell_type": "markdown",
   "id": "25c4cff1",
   "metadata": {},
   "source": [
    "###### 2. Split into two halfs and use second half for further"
   ]
  },
  {
   "cell_type": "code",
   "execution_count": 78,
   "id": "fabb6814",
   "metadata": {},
   "outputs": [
    {
     "name": "stdout",
     "output_type": "stream",
     "text": [
      "1010 1001\n"
     ]
    }
   ],
   "source": [
    "first_ip, second_ip = split_half(ip)\n",
    "print(first_ip, second_ip)"
   ]
  },
  {
   "cell_type": "code",
   "execution_count": 79,
   "id": "6b66a556",
   "metadata": {},
   "outputs": [
    {
     "name": "stdout",
     "output_type": "stream",
     "text": [
      "11000011\n"
     ]
    }
   ],
   "source": [
    "def apply_ep(pt: str) -> str:\n",
    "    npt = [0] * len(EP)\n",
    "    for f, s in EP:\n",
    "        npt[f-1] = pt[s-1]\n",
    "    npt = \"\".join(npt)\n",
    "    return npt\n",
    "\n",
    "ep = apply_ep(second_ip)\n",
    "print(ep)"
   ]
  },
  {
   "cell_type": "code",
   "execution_count": 80,
   "id": "2d30a724",
   "metadata": {},
   "outputs": [
    {
     "name": "stdout",
     "output_type": "stream",
     "text": [
      "01100111\n"
     ]
    }
   ],
   "source": [
    "def xor(first, second):\n",
    "    result = []\n",
    "    for f, s in zip(first, second):\n",
    "        result.append(int(f) ^ int(s))\n",
    "    result = [str(x) for x in result]\n",
    "    result = \"\".join(result)\n",
    "    return result\n",
    "\n",
    "xor_with_k1 = xor(ep, k1)\n",
    "print(xor_with_k1)"
   ]
  },
  {
   "cell_type": "code",
   "execution_count": 81,
   "id": "d566d314",
   "metadata": {},
   "outputs": [],
   "source": [
    "s0 = [\n",
    "    ['01', '00', '11', '10'],\n",
    "    ['11', '10', '01', '00'],\n",
    "    ['00', '10', '01', '11'],\n",
    "    ['11', '01', '11', '10']\n",
    "]\n",
    "\n",
    "s1 = [\n",
    "    ['00', '01', '10', '11'],\n",
    "    ['10', '00', '01', '11'],\n",
    "    ['11', '00', '01', '00'],\n",
    "    ['10', '01', '00', '11']\n",
    "]"
   ]
  },
  {
   "cell_type": "code",
   "execution_count": 82,
   "id": "6f3e8031",
   "metadata": {},
   "outputs": [],
   "source": [
    "# row is (b1, b4) and col is (b2, b3)\n",
    "def feed_to_s0(pt):\n",
    "    row = int(pt[0]+pt[3], base=2)\n",
    "    col = int(pt[1]+pt[2], base=2)\n",
    "    \n",
    "    return s0[row][col]\n",
    "\n",
    "def feed_to_s1(pt):\n",
    "    row = int(pt[0]+pt[3], base=2)\n",
    "    col = int(pt[1]+pt[2], base=2)\n",
    "    \n",
    "    return s1[row][col]  "
   ]
  },
  {
   "cell_type": "code",
   "execution_count": 83,
   "id": "ec22ee42",
   "metadata": {},
   "outputs": [
    {
     "name": "stdout",
     "output_type": "stream",
     "text": [
      "1011\n"
     ]
    }
   ],
   "source": [
    "# split and feed xor_with_k1 to s0 and s1\n",
    "first, second = split_half(xor_with_k1)\n",
    "sub_result = feed_to_s0(first) + feed_to_s1(second)\n",
    "print(sub_result)"
   ]
  },
  {
   "cell_type": "code",
   "execution_count": 84,
   "id": "7c5529da",
   "metadata": {},
   "outputs": [],
   "source": [
    "# apply p4 and then xor with left half of ip\n",
    "def apply_p4(pt: str) -> str:\n",
    "    npt = [0] * len(P4)\n",
    "    for f, s in P4:\n",
    "        npt[f-1] = pt[s-1]\n",
    "    npt = \"\".join(npt)\n",
    "    return npt"
   ]
  },
  {
   "cell_type": "code",
   "execution_count": 85,
   "id": "3464d3b4",
   "metadata": {},
   "outputs": [
    {
     "name": "stdout",
     "output_type": "stream",
     "text": [
      "0111\n"
     ]
    }
   ],
   "source": [
    "result = apply_p4(sub_result)\n",
    "print(result)"
   ]
  },
  {
   "cell_type": "code",
   "execution_count": 86,
   "id": "40dedb3c",
   "metadata": {},
   "outputs": [
    {
     "name": "stdout",
     "output_type": "stream",
     "text": [
      "1101\n"
     ]
    }
   ],
   "source": [
    "xor_with_left_half = xor(result, first_ip)\n",
    "print(xor_with_left_half)"
   ]
  },
  {
   "cell_type": "code",
   "execution_count": 87,
   "id": "b10c7f6e",
   "metadata": {},
   "outputs": [
    {
     "name": "stdout",
     "output_type": "stream",
     "text": [
      "11011001\n"
     ]
    }
   ],
   "source": [
    "# combine this with right half\n",
    "first_round_result = xor_with_left_half + second_ip\n",
    "print(first_round_result)"
   ]
  },
  {
   "cell_type": "code",
   "execution_count": 88,
   "id": "d8b97a88",
   "metadata": {},
   "outputs": [],
   "source": [
    "# now swap the halfs and repeat\n",
    "def swap_half(pt: str) -> str:\n",
    "    first, second = split_half(pt)\n",
    "    return second + first"
   ]
  },
  {
   "cell_type": "code",
   "execution_count": 96,
   "id": "ecac4279",
   "metadata": {},
   "outputs": [
    {
     "name": "stdout",
     "output_type": "stream",
     "text": [
      "11101101\n"
     ]
    }
   ],
   "source": [
    "swap_result = swap_half(first_round_result)\n",
    "first_ip, second_ip = split_half(swap_result)\n",
    "# use second ip further\n",
    "ep = apply_ep(second_ip)\n",
    "xor_with_k2 = xor(ep, k2)\n",
    "first, second = split_half(xor_with_k2)\n",
    "sub_result = feed_to_s0(first) + feed_to_s1(second)\n",
    "result = apply_p4(sub_result)\n",
    "xor_with_left_half = xor(result, first_ip)\n",
    "second_round_result = xor_with_left_half + second_ip\n",
    "print(second_round_result)"
   ]
  },
  {
   "cell_type": "code",
   "execution_count": 99,
   "id": "8c822fe0",
   "metadata": {},
   "outputs": [],
   "source": [
    "def apply_inverse_ip(pt: str) -> str:\n",
    "    npt = [0] * len(IP)\n",
    "    for f, s in IP:\n",
    "        npt[s-1] = pt[f-1]  # inverse operation\n",
    "    npt = \"\".join(npt)\n",
    "    return npt"
   ]
  },
  {
   "cell_type": "code",
   "execution_count": 100,
   "id": "c18058bb",
   "metadata": {},
   "outputs": [
    {
     "name": "stdout",
     "output_type": "stream",
     "text": [
      "01110111\n"
     ]
    }
   ],
   "source": [
    "cipher_text = apply_inverse_ip(second_round_result)\n",
    "print(cipher_text)"
   ]
  },
  {
   "cell_type": "markdown",
   "id": "0b8549fa",
   "metadata": {},
   "source": [
    "<img src=\"https://www.codeproject.com/KB/security/SDES/SDES_fig_C1.png\" height=400 width=400>"
   ]
  },
  {
   "cell_type": "code",
   "execution_count": 108,
   "id": "3dd2d337",
   "metadata": {},
   "outputs": [],
   "source": [
    "def generate_subkeys(key: str) -> tuple:\n",
    "    key = apply_p10(key)\n",
    "    first, second = split_half(key)\n",
    "    ls1 = left_shift(first, shift=1) + left_shift(second, shift=1)\n",
    "    k1 = apply_p8(ls1)\n",
    "    first, second = split_half(ls1)\n",
    "    ls2 = left_shift(first, shift=2) + left_shift(second, shift=2)\n",
    "    k2 = apply_p8(ls2)\n",
    "    \n",
    "    return k1, k2"
   ]
  },
  {
   "cell_type": "code",
   "execution_count": 109,
   "id": "158075ff",
   "metadata": {},
   "outputs": [],
   "source": [
    "def fK(ip: str, key: str) -> str:\n",
    "    first_ip, second_ip = split_half(ip)\n",
    "    \n",
    "    # use second ip further\n",
    "    ep = apply_ep(second_ip)\n",
    "    xor_with_key = xor(ep, key)\n",
    "    first, second = split_half(xor_with_key)\n",
    "    sub_result = feed_to_s0(first) + feed_to_s1(second)\n",
    "    result = apply_p4(sub_result)\n",
    "    xor_with_left_half = xor(result, first_ip)\n",
    "    result = xor_with_left_half + second_ip\n",
    "\n",
    "    return result"
   ]
  },
  {
   "cell_type": "code",
   "execution_count": 110,
   "id": "c6e0ee1b",
   "metadata": {},
   "outputs": [],
   "source": [
    "def encryption(plain_text: str, key: str) -> str:\n",
    "    k1, k2 = generate_subkeys(key)\n",
    "    \n",
    "    # round 1\n",
    "    ip = apply_ip(plain_text)\n",
    "    fk1 = fK(ip, k1)\n",
    "    sw = swap_half(fk1)\n",
    "    fk2 = fK(sw, k2)\n",
    "    cipher_text = apply_inverse_ip(fk2)\n",
    "    \n",
    "    return cipher_text"
   ]
  },
  {
   "cell_type": "code",
   "execution_count": 111,
   "id": "f534dee9",
   "metadata": {},
   "outputs": [],
   "source": [
    "key = '1010000010'\n",
    "plain_text = '01110010'"
   ]
  },
  {
   "cell_type": "code",
   "execution_count": 115,
   "id": "60ab5136",
   "metadata": {},
   "outputs": [
    {
     "name": "stdout",
     "output_type": "stream",
     "text": [
      "01110111\n"
     ]
    }
   ],
   "source": [
    "cipher_text = encryption(plain_text, key)\n",
    "print(cipher_text)"
   ]
  },
  {
   "cell_type": "code",
   "execution_count": 116,
   "id": "2d4d4c5d",
   "metadata": {},
   "outputs": [],
   "source": [
    "def decryption(cipher_text: str, key: str) -> str:\n",
    "    k1, k2 = generate_subkeys(key)\n",
    "    ip = apply_ip(cipher_text)\n",
    "    fk2 = fK(ip, k2)\n",
    "    sw = swap_half(fk2)\n",
    "    fk1 = fK(sw, k1)\n",
    "    plain_text = apply_inverse_ip(fk1)\n",
    "    \n",
    "    return plain_text"
   ]
  },
  {
   "cell_type": "code",
   "execution_count": 117,
   "id": "c5943346",
   "metadata": {},
   "outputs": [
    {
     "name": "stdout",
     "output_type": "stream",
     "text": [
      "01110010\n"
     ]
    }
   ],
   "source": [
    "decrypted_text = decryption(cipher_text, key)\n",
    "print(decrypted_text)"
   ]
  },
  {
   "cell_type": "code",
   "execution_count": 122,
   "id": "09080b64",
   "metadata": {},
   "outputs": [],
   "source": [
    "assert decrypted_text == plain_text"
   ]
  },
  {
   "cell_type": "code",
   "execution_count": null,
   "id": "a5135e49",
   "metadata": {},
   "outputs": [],
   "source": []
  }
 ],
 "metadata": {
  "kernelspec": {
   "display_name": "Python 3",
   "language": "python",
   "name": "python3"
  },
  "language_info": {
   "codemirror_mode": {
    "name": "ipython",
    "version": 3
   },
   "file_extension": ".py",
   "mimetype": "text/x-python",
   "name": "python",
   "nbconvert_exporter": "python",
   "pygments_lexer": "ipython3",
   "version": "3.7.10"
  }
 },
 "nbformat": 4,
 "nbformat_minor": 5
}
