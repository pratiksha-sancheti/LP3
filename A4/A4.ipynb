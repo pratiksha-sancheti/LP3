{
 "cells": [
  {
   "cell_type": "code",
   "execution_count": 1,
   "id": "51a34593",
   "metadata": {},
   "outputs": [],
   "source": [
    "import csv"
   ]
  },
  {
   "cell_type": "code",
   "execution_count": 24,
   "id": "6c8afffa",
   "metadata": {},
   "outputs": [],
   "source": [
    "row_list = [ [\"X\",\"Y\"],\n",
    "            [0.1,0.6],\n",
    "           [0.15,0.71],\n",
    "           [0.08,0.9],\n",
    "           [0.16,0.85],\n",
    "           [0.2,0.3],\n",
    "           [0.25,0.5],\n",
    "           [0.24,0.1],\n",
    "           [0.3,0.2]]\n",
    "with open('A4.csv', 'w', newline='') as file:\n",
    "    writer = csv.writer(file)\n",
    "    writer.writerows(row_list)"
   ]
  },
  {
   "cell_type": "code",
   "execution_count": 25,
   "id": "de98e558",
   "metadata": {},
   "outputs": [],
   "source": [
    "import numpy as np\n",
    "import matplotlib.pyplot as plt\n",
    "import pandas as pd"
   ]
  },
  {
   "cell_type": "code",
   "execution_count": 26,
   "id": "ea87ba96",
   "metadata": {},
   "outputs": [],
   "source": [
    "df = pd.read_csv('A3.csv')"
   ]
  },
  {
   "cell_type": "code",
   "execution_count": 27,
   "id": "1d116eb6",
   "metadata": {},
   "outputs": [],
   "source": [
    "f1 = df['X'].values\n",
    "f2 = df['Y'].values"
   ]
  },
  {
   "cell_type": "code",
   "execution_count": 28,
   "id": "b95139ac",
   "metadata": {},
   "outputs": [
    {
     "data": {
      "text/plain": [
       "array([[0.1 , 0.6 ],\n",
       "       [0.15, 0.71],\n",
       "       [0.08, 0.9 ],\n",
       "       [0.16, 0.85],\n",
       "       [0.2 , 0.3 ],\n",
       "       [0.25, 0.5 ],\n",
       "       [0.24, 0.1 ],\n",
       "       [0.3 , 0.2 ]])"
      ]
     },
     "execution_count": 28,
     "metadata": {},
     "output_type": "execute_result"
    }
   ],
   "source": [
    "X = np.array(list(zip(f1, f2)))\n",
    "X"
   ]
  },
  {
   "cell_type": "code",
   "execution_count": 29,
   "id": "499430a5",
   "metadata": {},
   "outputs": [],
   "source": [
    "C_x=np.array([0.1,0.3])\n",
    "C_y=np.array([0.6,0.2])\n",
    "centroids=C_x,C_y"
   ]
  },
  {
   "cell_type": "code",
   "execution_count": 30,
   "id": "7c6a1250",
   "metadata": {},
   "outputs": [],
   "source": [
    "colmap = {1: 'r', 2: 'b'}"
   ]
  },
  {
   "cell_type": "code",
   "execution_count": 31,
   "id": "bc836ce2",
   "metadata": {},
   "outputs": [
    {
     "data": {
      "image/png": "[encoded data removed]",
      "text/plain": [
       "<Figure size 432x288 with 1 Axes>"
      ]
     },
     "metadata": {
      "needs_background": "light"
     },
     "output_type": "display_data"
    }
   ],
   "source": [
    "plt.scatter(f1, f2, color='k')\n",
    "plt.show()"
   ]
  },
  {
   "cell_type": "code",
   "execution_count": 32,
   "id": "d98f590d",
   "metadata": {},
   "outputs": [
    {
     "data": {
      "image/png": "[encoded data removed]",
      "text/plain": [
       "<Figure size 432x288 with 1 Axes>"
      ]
     },
     "metadata": {
      "needs_background": "light"
     },
     "output_type": "display_data"
    }
   ],
   "source": [
    "plt.scatter(C_x[0],C_y[0], color=colmap[1])\n",
    "plt.scatter(C_x[1],C_y[1], color=colmap[2])\n",
    "plt.show()"
   ]
  },
  {
   "cell_type": "code",
   "execution_count": 33,
   "id": "1f95828d",
   "metadata": {},
   "outputs": [
    {
     "data": {
      "text/plain": [
       "array([[0.1, 0.3],\n",
       "       [0.6, 0.2]], dtype=float32)"
      ]
     },
     "execution_count": 33,
     "metadata": {},
     "output_type": "execute_result"
    }
   ],
   "source": [
    "C = np.array(list((C_x, C_y)), dtype=np.float32)\n",
    "C"
   ]
  },
  {
   "cell_type": "code",
   "execution_count": 34,
   "id": "961759c4",
   "metadata": {},
   "outputs": [
    {
     "data": {
      "image/png": "[encoded data removed]",
      "text/plain": [
       "<Figure size 432x288 with 1 Axes>"
      ]
     },
     "metadata": {
      "needs_background": "light"
     },
     "output_type": "display_data"
    }
   ],
   "source": [
    "plt.scatter(f1, f2, c='#050505')\n",
    "plt.scatter(C_x[0], C_y[0], marker='*', s=200, c='r')\n",
    "plt.scatter(C_x[1], C_y[1], marker='*', s=200, c='b')\n",
    "plt.show()"
   ]
  },
  {
   "cell_type": "code",
   "execution_count": 35,
   "id": "88356d01",
   "metadata": {},
   "outputs": [],
   "source": [
    "from sklearn.cluster import KMeans\n",
    "model=KMeans(n_clusters=2,random_state=0)\n",
    "model.fit(X)\n",
    "labels=model.labels_"
   ]
  },
  {
   "cell_type": "code",
   "execution_count": 36,
   "id": "87f55071",
   "metadata": {},
   "outputs": [
    {
     "data": {
      "text/plain": [
       "array([1, 1, 1, 1, 0, 0, 0, 0])"
      ]
     },
     "execution_count": 36,
     "metadata": {},
     "output_type": "execute_result"
    }
   ],
   "source": [
    "labels"
   ]
  },
  {
   "cell_type": "code",
   "execution_count": 37,
   "id": "baca1bdd",
   "metadata": {},
   "outputs": [],
   "source": [
    "count=0\n",
    "for i in range(len(labels)):\n",
    "    if (labels[i]==1):\n",
    "        count=count+1"
   ]
  },
  {
   "cell_type": "code",
   "execution_count": 38,
   "id": "fa3156bd",
   "metadata": {},
   "outputs": [
    {
     "name": "stdout",
     "output_type": "stream",
     "text": [
      "No of population around cluster 2: 3\n"
     ]
    }
   ],
   "source": [
    "print('No of population around cluster 2:',count-1)"
   ]
  },
  {
   "cell_type": "code",
   "execution_count": 39,
   "id": "7b0c79cb",
   "metadata": {},
   "outputs": [],
   "source": [
    "new_centroids = model.cluster_centers_"
   ]
  },
  {
   "cell_type": "code",
   "execution_count": 40,
   "id": "54d095f3",
   "metadata": {},
   "outputs": [
    {
     "name": "stdout",
     "output_type": "stream",
     "text": [
      "Previous value of m1 and m2 is:\n",
      "M1== [0.1 0.3]\n",
      "M1== [0.6 0.2]\n"
     ]
    }
   ],
   "source": [
    "print('Previous value of m1 and m2 is:')\n",
    "print('M1==',centroids[0])\n",
    "print('M1==',centroids[1])"
   ]
  },
  {
   "cell_type": "code",
   "execution_count": 41,
   "id": "901007da",
   "metadata": {},
   "outputs": [
    {
     "name": "stdout",
     "output_type": "stream",
     "text": [
      "updated value of m1 and m2 is:\n",
      "M1== [0.2475 0.275 ]\n",
      "M1== [0.1225 0.765 ]\n"
     ]
    }
   ],
   "source": [
    "print('updated value of m1 and m2 is:')\n",
    "print('M1==',new_centroids[0])\n",
    "print('M1==',new_centroids[1])"
   ]
  },
  {
   "cell_type": "code",
   "execution_count": null,
   "id": "c85473fc",
   "metadata": {},
   "outputs": [],
   "source": []
  }
 ],
 "metadata": {
  "kernelspec": {
   "display_name": "Python 3",
   "language": "python",
   "name": "python3"
  },
  "language_info": {
   "codemirror_mode": {
    "name": "ipython",
    "version": 3
   },
   "file_extension": ".py",
   "mimetype": "text/x-python",
   "name": "python",
   "nbconvert_exporter": "python",
   "pygments_lexer": "ipython3",
   "version": "3.7.10"
  }
 },
 "nbformat": 4,
 "nbformat_minor": 5
}
