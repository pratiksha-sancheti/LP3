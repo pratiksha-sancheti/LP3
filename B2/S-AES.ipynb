{
 "cells": [
  {
   "cell_type": "markdown",
   "id": "4be99f7a",
   "metadata": {},
   "source": [
    "Documentation: https://sandilands.info/sgordon/teaching/reports/simplified-aes-example.pdf\n",
    "\n",
    "Video: https://www.youtube.com/watch?v=NEmsy8_59q4"
   ]
  },
  {
   "cell_type": "code",
   "execution_count": 1,
   "id": "9c86eb5d",
   "metadata": {},
   "outputs": [],
   "source": [
    "# 16-bit plaintext and 16-bit key\n",
    "plain_text = '1101011100101000'\n",
    "key = '0100101011110101'"
   ]
  },
  {
   "cell_type": "code",
   "execution_count": 2,
   "id": "84a503f0",
   "metadata": {},
   "outputs": [],
   "source": [
    "assert len(plain_text) == 16"
   ]
  },
  {
   "cell_type": "code",
   "execution_count": 3,
   "id": "06a2c4c2",
   "metadata": {},
   "outputs": [],
   "source": [
    "assert len(key) == 16"
   ]
  },
  {
   "cell_type": "markdown",
   "id": "1a1037e5",
   "metadata": {},
   "source": [
    "###### 1. Key Generation"
   ]
  },
  {
   "cell_type": "code",
   "execution_count": 4,
   "id": "ad675d0a",
   "metadata": {},
   "outputs": [
    {
     "name": "stdout",
     "output_type": "stream",
     "text": [
      "w0: 01001010\n",
      "w1: 11110101\n"
     ]
    }
   ],
   "source": [
    "def split_half(key: str) -> tuple:\n",
    "    n = len(key)\n",
    "    mid = n//2\n",
    "    return key[:mid], key[mid:]\n",
    "\n",
    "w0, w1 = split_half(key)\n",
    "print(f'w0: {w0}')\n",
    "print(f'w1: {w1}')"
   ]
  },
  {
   "cell_type": "code",
   "execution_count": 5,
   "id": "9ef077e4",
   "metadata": {},
   "outputs": [],
   "source": [
    "def xor(first, second):\n",
    "    result = []\n",
    "    for f, s in zip(first, second):\n",
    "        result.append(int(f) ^ int(s))\n",
    "    result = [str(x) for x in result]\n",
    "    result = \"\".join(result)\n",
    "    return result"
   ]
  },
  {
   "cell_type": "code",
   "execution_count": 7,
   "id": "894f3082",
   "metadata": {},
   "outputs": [
    {
     "name": "stdout",
     "output_type": "stream",
     "text": [
      "{'0000': '1010',\n",
      " '0001': '0101',\n",
      " '0010': '1001',\n",
      " '0011': '1011',\n",
      " '0100': '0001',\n",
      " '0101': '0111',\n",
      " '0110': '1000',\n",
      " '0111': '1111',\n",
      " '1000': '0110',\n",
      " '1001': '0000',\n",
      " '1010': '0010',\n",
      " '1011': '0011',\n",
      " '1100': '1100',\n",
      " '1101': '0100',\n",
      " '1110': '1101',\n",
      " '1111': '1110'}\n"
     ]
    }
   ],
   "source": [
    "S_BOX = {\n",
    "    '0000': '1001',\n",
    "    '0001': '0100',\n",
    "    '0010': '1010',\n",
    "    '0011': '1011',\n",
    "    '0100': '1101',\n",
    "    '0101': '0001',\n",
    "    '0110': '1000',\n",
    "    '0111': '0101',\n",
    "    '1000': '0110',\n",
    "    '1001': '0010',\n",
    "    '1010': '0000',\n",
    "    '1011': '0011',\n",
    "    '1100': '1100',\n",
    "    '1101': '1110',\n",
    "    '1110': '1111',\n",
    "    '1111': '0111',\n",
    "}\n",
    "\n",
    "S_BOX_INV = dict(zip(S_BOX.values(), S_BOX.keys()))\n",
    "from pprint import pprint\n",
    "pprint(S_BOX_INV)"
   ]
  },
  {
   "cell_type": "code",
   "execution_count": 8,
   "id": "f751fc5a",
   "metadata": {},
   "outputs": [],
   "source": [
    "# w2 = w0 XOR 10000000 XOR SubNib(RotNib(w1))\n",
    "def rot_nib(key: str) -> str:\n",
    "    first, second = split_half(key)\n",
    "    return second + first\n",
    "\n",
    "def sub_nib(key: str) -> str:\n",
    "    if len(key) != 4:\n",
    "        first, second = split_half(key)\n",
    "        return sub_nib(first) + sub_nib(second)\n",
    "    return S_BOX[key]\n",
    "\n",
    "def inverse_sub_nib(key: str) -> str:\n",
    "    if len(key) != 4:\n",
    "        first, second = split_half(key)\n",
    "        return inverse_sub_nib(first) + inverse_sub_nib(second)\n",
    "    return S_BOX_INV[key]\n",
    "\n",
    "def g_func(first, second, round_constant) -> str:\n",
    "    return xor(xor(first, round_constant), sub_nib(rot_nib(second)))"
   ]
  },
  {
   "cell_type": "code",
   "execution_count": 9,
   "id": "2225fbb2",
   "metadata": {},
   "outputs": [
    {
     "name": "stdout",
     "output_type": "stream",
     "text": [
      "w2: 11011101\n"
     ]
    }
   ],
   "source": [
    "round_one_constant = '10000000'\n",
    "w2 = g_func(w0, w1, round_one_constant)\n",
    "print(f'w2: {w2}')"
   ]
  },
  {
   "cell_type": "code",
   "execution_count": 10,
   "id": "9b58eece",
   "metadata": {},
   "outputs": [
    {
     "name": "stdout",
     "output_type": "stream",
     "text": [
      "w3: 00101000\n"
     ]
    }
   ],
   "source": [
    "w3 = xor(w2, w1)\n",
    "print(f'w3: {w3}')"
   ]
  },
  {
   "cell_type": "code",
   "execution_count": 11,
   "id": "f89ed823",
   "metadata": {},
   "outputs": [
    {
     "name": "stdout",
     "output_type": "stream",
     "text": [
      "w4: 10000111\n"
     ]
    }
   ],
   "source": [
    "round_two_constant = '00110000'\n",
    "w4 = g_func(w2, w3, round_two_constant)\n",
    "print(f'w4: {w4}')"
   ]
  },
  {
   "cell_type": "code",
   "execution_count": 12,
   "id": "9870889d",
   "metadata": {},
   "outputs": [
    {
     "name": "stdout",
     "output_type": "stream",
     "text": [
      "w4: 10101111\n"
     ]
    }
   ],
   "source": [
    "w5 = xor(w4, w3)\n",
    "print(f'w4: {w5}')"
   ]
  },
  {
   "cell_type": "code",
   "execution_count": 13,
   "id": "0e131436",
   "metadata": {},
   "outputs": [
    {
     "name": "stdout",
     "output_type": "stream",
     "text": [
      "key0: 0100101011110101\n",
      "key1: 1101110100101000\n",
      "key2: 1000011110101111\n"
     ]
    }
   ],
   "source": [
    "key0 = w0 + w1\n",
    "key1 = w2 + w3\n",
    "key2 = w4 + w5\n",
    "print(f'key0: {key0}')\n",
    "print(f'key1: {key1}')\n",
    "print(f'key2: {key2}')\n"
   ]
  },
  {
   "cell_type": "markdown",
   "id": "08eb1d68",
   "metadata": {},
   "source": [
    "###### 2. Encryption"
   ]
  },
  {
   "cell_type": "code",
   "execution_count": 14,
   "id": "3ff78872",
   "metadata": {},
   "outputs": [
    {
     "name": "stdout",
     "output_type": "stream",
     "text": [
      "1001110111011101\n"
     ]
    }
   ],
   "source": [
    "# Add Round 0 Key\n",
    "def add_round_key(text: str, key: str) -> str:\n",
    "    return xor(text, key)\n",
    "result = add_round_key(plain_text, key0)\n",
    "print(result)"
   ]
  },
  {
   "cell_type": "code",
   "execution_count": 15,
   "id": "852f5c78",
   "metadata": {},
   "outputs": [],
   "source": [
    "# round 1"
   ]
  },
  {
   "cell_type": "code",
   "execution_count": 16,
   "id": "d3528d70",
   "metadata": {},
   "outputs": [
    {
     "name": "stdout",
     "output_type": "stream",
     "text": [
      "0010111011101110\n"
     ]
    }
   ],
   "source": [
    "# nibble substitution\n",
    "result = sub_nib(result)\n",
    "print(result)"
   ]
  },
  {
   "cell_type": "code",
   "execution_count": 17,
   "id": "e81f4faa",
   "metadata": {},
   "outputs": [
    {
     "name": "stdout",
     "output_type": "stream",
     "text": [
      "0010111011101110\n"
     ]
    }
   ],
   "source": [
    "# shift row, swap 2nd and 4th nibble\n",
    "def shift_row(text: str) -> str:\n",
    "    first_half, second_half = split_half(text)\n",
    "    (f0, f1), (f2, f3) = split_half(first_half), split_half(second_half)\n",
    "    result = f0 + f3 + f2 + f1  # swapping second and fourth nibble [zero based indexing]\n",
    "    return result\n",
    "\n",
    "result = shift_row(result)\n",
    "print(result)\n"
   ]
  },
  {
   "cell_type": "code",
   "execution_count": 18,
   "id": "d051bda2",
   "metadata": {},
   "outputs": [],
   "source": [
    "# mix columns\n",
    "Me = [\n",
    "    [1, 4],\n",
    "    [4, 1]\n",
    "]\n",
    "\n",
    "Mf = [\n",
    "    [9, 2],\n",
    "    [2, 9]\n",
    "]"
   ]
  },
  {
   "cell_type": "code",
   "execution_count": 19,
   "id": "38585325",
   "metadata": {},
   "outputs": [],
   "source": [
    "M4 = {\n",
    "    '0x1': '4',\n",
    "    '0x2': '8',\n",
    "    '0x3': '0xc',\n",
    "    '0x4': '3',\n",
    "    '0x5': '7',\n",
    "    '0x6': '0xb',\n",
    "    '0x7': '0xf',\n",
    "    '0x8': '6',\n",
    "    '0x9': '0',\n",
    "    '0xa': '0xe',\n",
    "    '0xb': '0xa',\n",
    "    '0xc': '5',\n",
    "    '0xd': '1',\n",
    "    '0xe': '0xd',\n",
    "    '0xf': '9'\n",
    "}"
   ]
  },
  {
   "cell_type": "code",
   "execution_count": 20,
   "id": "9a207cb1",
   "metadata": {},
   "outputs": [],
   "source": [
    "M2 = {\n",
    "    '0x1': '2',\n",
    "    '0x2': '4',\n",
    "    '0x3': '6',\n",
    "    '0x4': '8',\n",
    "    '0x5': '0xa',\n",
    "    '0x6': '0xc',\n",
    "    '0x7': '0xe',\n",
    "    '0x8': '3',\n",
    "    '0x9': '1',\n",
    "    '0xa': '7',\n",
    "    '0xb': '5',\n",
    "    '0xc': '0xb',\n",
    "    '0xd': '9',\n",
    "    '0xe': '0xf',\n",
    "    '0xf': '0xd'\n",
    "}"
   ]
  },
  {
   "cell_type": "code",
   "execution_count": 21,
   "id": "d440ad5d",
   "metadata": {},
   "outputs": [],
   "source": [
    "M9 = {\n",
    "    '0x1': '9',\n",
    "    '0x2': '1',\n",
    "    '0x3': '8',\n",
    "    '0x4': '2',\n",
    "    '0x5': '0xb',\n",
    "    '0x6': '3',\n",
    "    '0x7': '0xa',\n",
    "    '0x8': '4',\n",
    "    '0x9': '0xd',\n",
    "    '0xa': '5',\n",
    "    '0xb': '0xc',\n",
    "    '0xc': '6',\n",
    "    '0xd': '0xf',\n",
    "    '0xe': '7',\n",
    "    '0xf': '0xe'\n",
    "}"
   ]
  },
  {
   "cell_type": "code",
   "execution_count": 22,
   "id": "f43cfa4f",
   "metadata": {},
   "outputs": [],
   "source": [
    "def matrix_multiplication1(Me, s):\n",
    "    s00 = int(s[0][0], base=2) \n",
    "    s01 = int(s[0][1], base=2) \n",
    "    s10 = int(s[1][0], base=2) \n",
    "    s11 = int(s[1][1], base=2) \n",
    "    a00 =  (1*s00) ^ int((M4[hex(s10)]), base=16)\n",
    "    a01 =  (1*s01) ^ int((M4[hex(s11)]), base=16)\n",
    "    a10 = int(M4[hex(s00)], base=16) ^ (1 * s10)\n",
    "    a11 = int(M4[hex(s01)], base=16) ^ (1 * s11)\n",
    "    \n",
    "    a00 = bin(a00)[2:].zfill(4)\n",
    "    a01 = bin(a01)[2:].zfill(4)\n",
    "    a10 = bin(a10)[2:].zfill(4)\n",
    "    a11 = bin(a11)[2:].zfill(4)\n",
    "    return [\n",
    "        [a00, a01],\n",
    "        [a10, a11]\n",
    "    ]"
   ]
  },
  {
   "cell_type": "code",
   "execution_count": 23,
   "id": "4b185c9a",
   "metadata": {},
   "outputs": [],
   "source": [
    "def matrix_multiplication2(Mf, s):\n",
    "    s00 = int(s[0][0], base=2) \n",
    "    s01 = int(s[0][1], base=2) \n",
    "    s10 = int(s[1][0], base=2) \n",
    "    s11 = int(s[1][1], base=2) \n",
    "    a00 =  int((M9[hex(s00)]), base=16) ^ int((M2[hex(s10)]), base=16)\n",
    "    a01 =  int((M9[hex(s01)]), base=16) ^ int((M2[hex(s11)]), base=16)\n",
    "    a10 =  int((M2[hex(s00)]), base=16) ^ int((M9[hex(s10)]), base=16)\n",
    "    a11 =  int((M2[hex(s01)]), base=16) ^ int((M9[hex(s11)]), base=16)\n",
    "    \n",
    "    a00 = bin(a00)[2:].zfill(4)\n",
    "    a01 = bin(a01)[2:].zfill(4)\n",
    "    a10 = bin(a10)[2:].zfill(4)\n",
    "    a11 = bin(a11)[2:].zfill(4)\n",
    "    return [\n",
    "        [a00, a01],\n",
    "        [a10, a11]\n",
    "    ]"
   ]
  },
  {
   "cell_type": "code",
   "execution_count": 24,
   "id": "6380f02a",
   "metadata": {},
   "outputs": [],
   "source": [
    "def shift_column(text: str) -> str:\n",
    "    first_half, second_half = split_half(text)\n",
    "    (f0, f1), (f2, f3) = split_half(first_half), split_half(second_half)\n",
    "    # column major form\n",
    "    s = [\n",
    "        [f0, f2],\n",
    "        [f1, f3]\n",
    "    ]\n",
    "    result = matrix_multiplication1(Me, s)\n",
    "    output = result[0][0] + result[1][0] + result[0][1] + result[1][1]  # column major\n",
    "    return output"
   ]
  },
  {
   "cell_type": "code",
   "execution_count": 25,
   "id": "6e0ab8c9",
   "metadata": {},
   "outputs": [],
   "source": [
    "def inverse_shift_column(text: str) -> str:\n",
    "    first_half, second_half = split_half(text)\n",
    "    (f0, f1), (f2, f3) = split_half(first_half), split_half(second_half)\n",
    "    # column major form\n",
    "    s = [\n",
    "        [f0, f2],\n",
    "        [f1, f3]\n",
    "    ]\n",
    "    result = matrix_multiplication2(Mf, s)\n",
    "    output = result[0][0] + result[1][0] + result[0][1] + result[1][1]  # column major\n",
    "    return output"
   ]
  },
  {
   "cell_type": "code",
   "execution_count": 26,
   "id": "6afb57bb",
   "metadata": {},
   "outputs": [
    {
     "name": "stdout",
     "output_type": "stream",
     "text": [
      "1111011000110011\n"
     ]
    }
   ],
   "source": [
    "first_round_output = shift_column(result)\n",
    "print(first_round_output)"
   ]
  },
  {
   "cell_type": "code",
   "execution_count": 27,
   "id": "1ea278c2",
   "metadata": {},
   "outputs": [
    {
     "name": "stdout",
     "output_type": "stream",
     "text": [
      "0010101100011011\n"
     ]
    }
   ],
   "source": [
    "# add round 1 key\n",
    "result = add_round_key(first_round_output, key1)\n",
    "print(result)"
   ]
  },
  {
   "cell_type": "code",
   "execution_count": 28,
   "id": "22d36dee",
   "metadata": {},
   "outputs": [
    {
     "name": "stdout",
     "output_type": "stream",
     "text": [
      "1010001101000011\n"
     ]
    }
   ],
   "source": [
    "# Second round\n",
    "# 1. Nibble substitution\n",
    "result = sub_nib(result)\n",
    "print(result)"
   ]
  },
  {
   "cell_type": "code",
   "execution_count": 29,
   "id": "42401605",
   "metadata": {},
   "outputs": [
    {
     "name": "stdout",
     "output_type": "stream",
     "text": [
      "1010001101000011\n"
     ]
    }
   ],
   "source": [
    "shift_result = shift_row(result)\n",
    "print(shift_result)"
   ]
  },
  {
   "cell_type": "code",
   "execution_count": 30,
   "id": "6157ff7c",
   "metadata": {},
   "outputs": [
    {
     "name": "stdout",
     "output_type": "stream",
     "text": [
      "0010010011101100\n"
     ]
    }
   ],
   "source": [
    "cipher_text = add_round_key(shift_result, key=key2)\n",
    "print(cipher_text)"
   ]
  },
  {
   "cell_type": "code",
   "execution_count": 31,
   "id": "3727256c",
   "metadata": {},
   "outputs": [],
   "source": [
    "def generate_subkeys(key: str) -> str:\n",
    "    round_one_constant = '10000000'\n",
    "    round_two_constant = '00110000'\n",
    "\n",
    "    w0, w1 = split_half(key)\n",
    "    w2 = g_func(w0, w1, round_one_constant)\n",
    "    w3 = xor(w2, w1)\n",
    "    w4 = g_func(w2, w3, round_two_constant)\n",
    "    w5 = xor(w4, w3)\n",
    "    \n",
    "    k0 = w0 + w1\n",
    "    k1 = w2 + w3\n",
    "    k2 = w4 + w5\n",
    "    return k0, k1, k2"
   ]
  },
  {
   "cell_type": "code",
   "execution_count": 32,
   "id": "9f29337b",
   "metadata": {},
   "outputs": [],
   "source": [
    "def encryption(plain_text: str, key: str) -> str:\n",
    "    k0, k1, k2 = generate_subkeys(key)\n",
    "    \n",
    "    result = add_round_key(plain_text, key=k0)\n",
    "    \n",
    "    # round 1\n",
    "    result = sub_nib(result)\n",
    "    result = shift_row(result)\n",
    "    first_round_output = shift_column(result)\n",
    "    \n",
    "    result = add_round_key(first_round_output, key=k1)\n",
    "    \n",
    "    # round 2 (final)\n",
    "    result = sub_nib(result)\n",
    "    result = shift_row(result)\n",
    "    \n",
    "    cipher_text = add_round_key(result, key=k2)\n",
    "    \n",
    "    return cipher_text"
   ]
  },
  {
   "cell_type": "code",
   "execution_count": 33,
   "id": "3d42cc6d",
   "metadata": {},
   "outputs": [],
   "source": [
    "def decryption(cipher_text: str, key: str) -> str:\n",
    "    k0, k1, k2 = generate_subkeys(key)\n",
    "    \n",
    "    result = add_round_key(cipher_text, key=k2)\n",
    "    \n",
    "    # inverse shift row\n",
    "    result = shift_row(result)\n",
    "    \n",
    "    # inverse nibble substitution\n",
    "    result = inverse_sub_nib(result)\n",
    "    \n",
    "    # add round key 1\n",
    "    result = add_round_key(result, key=k1)\n",
    "    \n",
    "    # inverse mix columns\n",
    "    result = inverse_shift_column(result)\n",
    "\n",
    "    # inverse shift row\n",
    "    result = shift_row(result)\n",
    "    \n",
    "    # inverse nibble substitution\n",
    "    result = inverse_sub_nib(result)\n",
    "    \n",
    "    plain_text = add_round_key(result, key=k0)\n",
    "    \n",
    "    return plain_text    "
   ]
  },
  {
   "cell_type": "code",
   "execution_count": 34,
   "id": "3fde44c8",
   "metadata": {},
   "outputs": [],
   "source": [
    "# 16-bit plaintext and 16-bit key\n",
    "plain_text = '1101011100101000'\n",
    "key = '0100101011110101'"
   ]
  },
  {
   "cell_type": "code",
   "execution_count": 35,
   "id": "93c12edb",
   "metadata": {},
   "outputs": [
    {
     "name": "stdout",
     "output_type": "stream",
     "text": [
      "0010010011101100\n"
     ]
    }
   ],
   "source": [
    "cipher_text = encryption(plain_text, key)\n",
    "print(cipher_text)"
   ]
  },
  {
   "cell_type": "code",
   "execution_count": 36,
   "id": "29f44232",
   "metadata": {},
   "outputs": [
    {
     "name": "stdout",
     "output_type": "stream",
     "text": [
      "1101011100101000\n"
     ]
    }
   ],
   "source": [
    "decrypted_text = decryption(cipher_text, key)\n",
    "print(decrypted_text)"
   ]
  },
  {
   "cell_type": "code",
   "execution_count": 37,
   "id": "b53f3c27",
   "metadata": {},
   "outputs": [],
   "source": [
    "assert decrypted_text == plain_text"
   ]
  },
  {
   "cell_type": "code",
   "execution_count": null,
   "id": "0cf1dd99",
   "metadata": {},
   "outputs": [],
   "source": []
  },
  {
   "cell_type": "code",
   "execution_count": null,
   "id": "c0d11eec",
   "metadata": {},
   "outputs": [],
   "source": []
  }
 ],
 "metadata": {
  "kernelspec": {
   "display_name": "Python 3",
   "language": "python",
   "name": "python3"
  },
  "language_info": {
   "codemirror_mode": {
    "name": "ipython",
    "version": 3
   },
   "file_extension": ".py",
   "mimetype": "text/x-python",
   "name": "python",
   "nbconvert_exporter": "python",
   "pygments_lexer": "ipython3",
   "version": "3.7.10"
  }
 },
 "nbformat": 4,
 "nbformat_minor": 5
}
