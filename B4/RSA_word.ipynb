{
 "cells": [
  {
   "cell_type": "code",
   "execution_count": 3,
   "id": "42ff6e84",
   "metadata": {},
   "outputs": [
    {
     "name": "stdout",
     "output_type": "stream",
     "text": [
      "Message=goodbye\n",
      "p=323098977403396940751041433208811160647\n",
      "q=333741318949128482238972286720524976669\n",
      "\n",
      "d=25723443866049263189970197930666610446412323674682544466864094544041194441169\n",
      "e=65537\n",
      "N=107831478869724354719270619277350495640066105786161270256357812372406485944843\n",
      "\n",
      "Private key (d,n)\n",
      "Public key (e,n)\n",
      "\n",
      "cipher=64730062908314765105374373728231377101530064675942133122296860258444765099170\n",
      "decipher=b'goodbye'\n"
     ]
    }
   ],
   "source": [
    "from Crypto.Util.number import bytes_to_long, long_to_bytes\n",
    "from Crypto.Random import get_random_bytes \n",
    "import Crypto\n",
    "import libnum\n",
    "\n",
    "bits=128\n",
    "msg=\"goodbye\"\n",
    "\n",
    "p = Crypto.Util.number.getPrime(bits, randfunc=get_random_bytes)\n",
    "q = Crypto.Util.number.getPrime(bits, randfunc=get_random_bytes)\n",
    "\n",
    "n = p*q\n",
    "PHI=(p-1)*(q-1)\n",
    "\n",
    "e=65537\n",
    "d=libnum.invmod(e,PHI)\n",
    "\n",
    "m=  bytes_to_long(msg.encode('utf-8'))\n",
    "\n",
    "c=pow(m,e, n)\n",
    "res=pow(c,d ,n)\n",
    "\n",
    "print (\"Message=%s\\np=%s\\nq=%s\\n\\nd=%d\\ne=%d\\nN=%s\\n\\nPrivate key (d,n)\\nPublic key (e,n)\\n\\ncipher=%s\\ndecipher=%s\" % (msg,p,q,d,e,n,c,(long_to_bytes(res))))"
   ]
  },
  {
   "cell_type": "code",
   "execution_count": 4,
   "id": "cad30c67",
   "metadata": {},
   "outputs": [
    {
     "ename": "ModuleNotFoundError",
     "evalue": "No module named 'sympy'",
     "output_type": "error",
     "traceback": [
      "\u001b[1;31m---------------------------------------------------------------------------\u001b[0m",
      "\u001b[1;31mModuleNotFoundError\u001b[0m                       Traceback (most recent call last)",
      "\u001b[1;32m<ipython-input-4-acda81c31bfd>\u001b[0m in \u001b[0;36m<module>\u001b[1;34m\u001b[0m\n\u001b[0;32m      1\u001b[0m \u001b[1;31m#Importing the SymPy library\u001b[0m\u001b[1;33m\u001b[0m\u001b[1;33m\u001b[0m\u001b[1;33m\u001b[0m\u001b[0m\n\u001b[1;32m----> 2\u001b[1;33m \u001b[1;32mfrom\u001b[0m \u001b[0msympy\u001b[0m \u001b[1;32mimport\u001b[0m \u001b[0mrandprime\u001b[0m\u001b[1;33m\u001b[0m\u001b[1;33m\u001b[0m\u001b[0m\n\u001b[0m\u001b[0;32m      3\u001b[0m \u001b[1;33m\u001b[0m\u001b[0m\n\u001b[0;32m      4\u001b[0m \u001b[1;31m#Importing the greatest common divisor method from math\u001b[0m\u001b[1;33m\u001b[0m\u001b[1;33m\u001b[0m\u001b[1;33m\u001b[0m\u001b[0m\n\u001b[0;32m      5\u001b[0m \u001b[1;32mfrom\u001b[0m \u001b[0mmath\u001b[0m \u001b[1;32mimport\u001b[0m \u001b[0mgcd\u001b[0m\u001b[1;33m\u001b[0m\u001b[1;33m\u001b[0m\u001b[0m\n",
      "\u001b[1;31mModuleNotFoundError\u001b[0m: No module named 'sympy'"
     ]
    }
   ],
   "source": [
    "#Importing the SymPy library\n",
    "from sympy import randprime\n",
    "\n",
    "#Importing the greatest common divisor method from math\n",
    "from math import gcd\n",
    "\n",
    "#The following two functions will return a value of d when you pass it the parameters public-key exponent and totient.\n",
    "def extended_gcd(aa, bb):\n",
    "    lastremainder, remainder = abs(aa), abs(bb)\n",
    "    x, lastx, y, lasty = 0, 1, 1, 0\n",
    "    while remainder:\n",
    "        lastremainder, (quotient, remainder) = remainder, divmod(lastremainder, remainder)\n",
    "        x, lastx = lastx - quotient*x, x\n",
    "        y, lasty = lasty - quotient*y, y\n",
    "    return lastremainder, lastx * (-1 if aa < 0 else 1), lasty * (-1 if bb < 0 else 1)\n",
    "\n",
    "#We produce the private-key exponent by finding the modular inverse of the public-key exponent, using the totient as the modulus.\n",
    "def modinv(a, m):\n",
    "\tg, x, y = extended_gcd(a, m)\n",
    "\tif g != 1:\n",
    "\t\traise ValueError\n",
    "\treturn x % m\n",
    "\n",
    "#Try not to go for more than a 24 bit key because Python is too slow for larger numbers\n",
    "print(\" Please do not go for more than a 24 bit key because Python is too slow for larger numbers. \")\n",
    "key_size = int(input(\" Please enter the desired key size: \"))\n",
    "key_size_string = str(key_size)\n",
    "print(\" Thank You!!! You have chosen the desired key size to be of \" + key_size_string + \" bits.\")\n",
    "\n",
    "#Set the two prime numbers to 0 so that they are declared before the loop\n",
    "prime1 = 0 \n",
    "prime2 = 0\n",
    "\n",
    "#The Loop will keep on generating prime numbers until both the following conditions are met.\n",
    "#   1. Both the prime numbers are unique.\n",
    "#   2. Their product is not larger than the key size (2^key_size)\n",
    "while prime1 == prime2 or (prime1 * prime2) > 2**key_size:\n",
    "    prime1 = randprime(3, 2**key_size/2)\n",
    "    prime2 = randprime(3, 2**key_size/2)\n",
    "    \n",
    "#Display the two prime numbers\n",
    "print(\"  1st Prime Number -----> \" + str(prime1))\n",
    "print(\"  2nd Prime Number -----> \" + str(prime2))\n",
    "\n",
    "#Calculate and display the RSA modulus r\n",
    "RSA_modulus = prime1 * prime2\n",
    "print(\"  RSA Modulus r -----> \" + str(RSA_modulus))"
   ]
  },
  {
   "cell_type": "code",
   "execution_count": null,
   "id": "dbc15558",
   "metadata": {},
   "outputs": [],
   "source": []
  }
 ],
 "metadata": {
  "kernelspec": {
   "display_name": "Python 3",
   "language": "python",
   "name": "python3"
  },
  "language_info": {
   "codemirror_mode": {
    "name": "ipython",
    "version": 3
   },
   "file_extension": ".py",
   "mimetype": "text/x-python",
   "name": "python",
   "nbconvert_exporter": "python",
   "pygments_lexer": "ipython3",
   "version": "3.7.10"
  }
 },
 "nbformat": 4,
 "nbformat_minor": 5
}
