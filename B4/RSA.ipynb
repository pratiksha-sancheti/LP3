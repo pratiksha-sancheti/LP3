{
 "cells": [
  {
   "cell_type": "code",
   "execution_count": 11,
   "id": "ea8063ad",
   "metadata": {},
   "outputs": [],
   "source": [
    "import random"
   ]
  },
  {
   "cell_type": "code",
   "execution_count": 12,
   "id": "fa44899a",
   "metadata": {},
   "outputs": [],
   "source": [
    "'''\n",
    "Euclid's algorithm for determining the greatest common divisor\n",
    "Use iteration to make it faster for larger integers\n",
    "'''\n",
    "def gcd(a, b):\n",
    "    while b != 0:\n",
    "        a, b = b, a % b\n",
    "    return a"
   ]
  },
  {
   "cell_type": "code",
   "execution_count": 13,
   "id": "c1388eca",
   "metadata": {},
   "outputs": [],
   "source": [
    "'''\n",
    "Euclid's extended algorithm for finding the multiplicative inverse of two numbers\n",
    "'''\n",
    "def multiplicative_inverse(e, phi):\n",
    "    d = 0\n",
    "    x1 = 0\n",
    "    x2 = 1\n",
    "    y1 = 1\n",
    "    temp_phi = phi\n",
    "    \n",
    "    while e > 0:\n",
    "        temp1 = temp_phi//e\n",
    "        temp2 = temp_phi - temp1 * e\n",
    "        temp_phi = e\n",
    "        e = temp2\n",
    "        \n",
    "        x = x2- temp1* x1\n",
    "        y = d - temp1 * y1\n",
    "        \n",
    "        x2 = x1\n",
    "        x1 = x\n",
    "        d = y1\n",
    "        y1 = y\n",
    "    \n",
    "    if temp_phi == 1:\n",
    "        return d + phi\n"
   ]
  },
  {
   "cell_type": "code",
   "execution_count": 14,
   "id": "7eed50df",
   "metadata": {},
   "outputs": [],
   "source": [
    "'''\n",
    "Tests to see if a number is prime.\n",
    "'''\n",
    "def is_prime(num):\n",
    "    if num == 2:\n",
    "        return True\n",
    "    if num < 2 or num % 2 == 0:\n",
    "        return False\n",
    "    for n in range(3, int(num**0.5)+2, 2):\n",
    "        if num % n == 0:\n",
    "            return False\n",
    "    return True"
   ]
  },
  {
   "cell_type": "code",
   "execution_count": 15,
   "id": "fa403f67",
   "metadata": {},
   "outputs": [],
   "source": [
    "def generate_keypair(p, q):\n",
    "    if not (is_prime(p) and is_prime(q)):\n",
    "        raise ValueError('Both numbers must be prime.')\n",
    "    elif p == q:\n",
    "        raise ValueError('p and q cannot be equal')\n",
    "    #n = pq\n",
    "    n = p * q\n",
    "\n",
    "    #Phi is the totient of n\n",
    "    phi = (p-1) * (q-1)\n",
    "\n",
    "    #Choose an integer e such that e and phi(n) are coprime\n",
    "    e = random.randrange(1, phi)\n",
    "\n",
    "    #Use Euclid's Algorithm to verify that e and phi(n) are comprime\n",
    "    g = gcd(e, phi)\n",
    "    while g != 1:\n",
    "        e = random.randrange(1, phi)\n",
    "        g = gcd(e, phi)\n",
    "\n",
    "    #Use Extended Euclid's Algorithm to generate the private key\n",
    "    d = multiplicative_inverse(e, phi)\n",
    "    \n",
    "    #Return public and private keypair\n",
    "    #Public key is (e, n) and private key is (d, n)\n",
    "    return ((e, n), (d, n))\n"
   ]
  },
  {
   "cell_type": "code",
   "execution_count": 16,
   "id": "f6d18a35",
   "metadata": {},
   "outputs": [],
   "source": [
    "def encrypt(pk, plaintext):\n",
    "    #Unpack the key into it's components\n",
    "    key, n = pk\n",
    "    #Convert each letter in the plaintext to numbers based on the character using a^b mod m\n",
    "    cipher = [(ord(char) ** key) % n for char in plaintext]\n",
    "    #Return the array of bytes\n",
    "    return cipher"
   ]
  },
  {
   "cell_type": "code",
   "execution_count": 17,
   "id": "8e299a3c",
   "metadata": {},
   "outputs": [],
   "source": [
    "def decrypt(pk, ciphertext):\n",
    "    #Unpack the key into its components\n",
    "    key, n = pk\n",
    "    #Generate the plaintext based on the ciphertext and key using a^b mod m\n",
    "    plain = [chr((char ** key) % n) for char in ciphertext]\n",
    "    #Return the array of bytes as a string\n",
    "    return ''.join(plain)"
   ]
  },
  {
   "cell_type": "code",
   "execution_count": 18,
   "id": "83477718",
   "metadata": {},
   "outputs": [
    {
     "name": "stdout",
     "output_type": "stream",
     "text": [
      "RSA Encrypter/ Decrypter\n",
      "Enter a prime number (17, 19, 23, etc): 113\n",
      "Enter another prime number (Not one you entered above): 19\n"
     ]
    }
   ],
   "source": [
    "print (\"RSA Encrypter/ Decrypter\")\n",
    "p = int(input(\"Enter a prime number (17, 19, 23, etc): \"))\n",
    "q = int(input(\"Enter another prime number (Not one you entered above): \"))"
   ]
  },
  {
   "cell_type": "code",
   "execution_count": 19,
   "id": "1014143e",
   "metadata": {},
   "outputs": [
    {
     "name": "stdout",
     "output_type": "stream",
     "text": [
      "Generating your public/private keypairs now . . .\n",
      "Your public key is  (1325, 2147)  and your private key is  (1733, 2147)\n"
     ]
    }
   ],
   "source": [
    "print (\"Generating your public/private keypairs now . . .\")\n",
    "public, private = generate_keypair(p, q)\n",
    "print (\"Your public key is \", public ,\" and your private key is \", private)"
   ]
  },
  {
   "cell_type": "code",
   "execution_count": 20,
   "id": "1a1db8e1",
   "metadata": {},
   "outputs": [
    {
     "name": "stdout",
     "output_type": "stream",
     "text": [
      "Enter a message to encrypt with your private key: preksha\n",
      "Your encrypted message is: \n",
      "1355 114 24 1661 438 1726 1134\n"
     ]
    }
   ],
   "source": [
    "message = input(\"Enter a message to encrypt with your private key: \")\n",
    "encrypted_msg = encrypt(private, message)\n",
    "print (\"Your encrypted message is: \")\n",
    "print (\" \".join(map(lambda x: str(x), encrypted_msg)))"
   ]
  },
  {
   "cell_type": "code",
   "execution_count": 21,
   "id": "f8472db5",
   "metadata": {},
   "outputs": [
    {
     "name": "stdout",
     "output_type": "stream",
     "text": [
      "Decrypting message with public key  (1325, 2147)  . . .\n",
      "Your message is:\n",
      "preksha\n"
     ]
    }
   ],
   "source": [
    "print (\"Decrypting message with public key \", public ,\" . . .\")\n",
    "print (\"Your message is:\")\n",
    "print (decrypt(public, encrypted_msg))   "
   ]
  },
  {
   "cell_type": "code",
   "execution_count": null,
   "id": "4b24e83d",
   "metadata": {},
   "outputs": [],
   "source": []
  }
 ],
 "metadata": {
  "kernelspec": {
   "display_name": "Python 3",
   "language": "python",
   "name": "python3"
  },
  "language_info": {
   "codemirror_mode": {
    "name": "ipython",
    "version": 3
   },
   "file_extension": ".py",
   "mimetype": "text/x-python",
   "name": "python",
   "nbconvert_exporter": "python",
   "pygments_lexer": "ipython3",
   "version": "3.7.10"
  }
 },
 "nbformat": 4,
 "nbformat_minor": 5
}
