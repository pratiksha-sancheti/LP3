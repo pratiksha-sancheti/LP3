{
 "cells": [
  {
   "cell_type": "code",
   "execution_count": 2,
   "id": "0875653c",
   "metadata": {},
   "outputs": [
    {
     "name": "stdout",
     "output_type": "stream",
     "text": [
      "Enter shared Prime(n):353\n",
      "Enter shared Base(g):3\n"
     ]
    }
   ],
   "source": [
    "sharedPrime = int(input(\"Enter shared Prime(n):\"))\n",
    "sharedBase = int(input(\"Enter shared Base(g):\"))"
   ]
  },
  {
   "cell_type": "code",
   "execution_count": 10,
   "id": "f6491954",
   "metadata": {},
   "outputs": [
    {
     "name": "stdout",
     "output_type": "stream",
     "text": [
      "Enter A Secret Key(x):97\n",
      "Enter B Secret Key(y):223\n"
     ]
    }
   ],
   "source": [
    "aliceSecret = int(input(\"Enter A Secret Key(x):\"))\n",
    "bobSecret = int(input(\"Enter B Secret Key(y):\"))"
   ]
  },
  {
   "cell_type": "code",
   "execution_count": 11,
   "id": "0dd0007b",
   "metadata": {},
   "outputs": [
    {
     "name": "stdout",
     "output_type": "stream",
     "text": [
      "Publicly Shared Variables:\n",
      "    Publicly Shared Prime:  353\n",
      "    Publicly Shared Base:   3\n"
     ]
    }
   ],
   "source": [
    "print( \"Publicly Shared Variables:\")\n",
    "print( \"    Publicly Shared Prime: \" , sharedPrime )\n",
    "print( \"    Publicly Shared Base:  \" , sharedBase )"
   ]
  },
  {
   "cell_type": "code",
   "execution_count": 12,
   "id": "e15c15ea",
   "metadata": {},
   "outputs": [
    {
     "name": "stdout",
     "output_type": "stream",
     "text": [
      "\n",
      "  A Sends(A) Over Public Chanel:  40\n"
     ]
    }
   ],
   "source": [
    "A = (sharedBase**aliceSecret) % sharedPrime\n",
    "print( \"\\n  A Sends(A) Over Public Chanel: \" , A )"
   ]
  },
  {
   "cell_type": "code",
   "execution_count": 13,
   "id": "0bc30510",
   "metadata": {},
   "outputs": [
    {
     "name": "stdout",
     "output_type": "stream",
     "text": [
      "B Sends(B) Over Public Chanel:  125\n"
     ]
    }
   ],
   "source": [
    "B = (sharedBase ** bobSecret) % sharedPrime\n",
    "print(\"B Sends(B) Over Public Chanel: \", B )"
   ]
  },
  {
   "cell_type": "code",
   "execution_count": 14,
   "id": "3deb0a25",
   "metadata": {},
   "outputs": [
    {
     "name": "stdout",
     "output_type": "stream",
     "text": [
      "    A Shared Secret:  77\n"
     ]
    }
   ],
   "source": [
    "aliceSharedSecret = (B ** aliceSecret) % sharedPrime\n",
    "print( \"    A Shared Secret: \", aliceSharedSecret )"
   ]
  },
  {
   "cell_type": "code",
   "execution_count": 15,
   "id": "e593dffc",
   "metadata": {},
   "outputs": [
    {
     "name": "stdout",
     "output_type": "stream",
     "text": [
      "    B Shared Secret:  77\n"
     ]
    }
   ],
   "source": [
    "bobSharedSecret = (A**bobSecret) % sharedPrime\n",
    "print( \"    B Shared Secret: \", bobSharedSecret )"
   ]
  },
  {
   "cell_type": "code",
   "execution_count": null,
   "id": "10afefab",
   "metadata": {},
   "outputs": [],
   "source": []
  },
  {
   "cell_type": "code",
   "execution_count": null,
   "id": "5807062d",
   "metadata": {},
   "outputs": [],
   "source": []
  },
  {
   "cell_type": "code",
   "execution_count": null,
   "id": "c3f84978",
   "metadata": {},
   "outputs": [],
   "source": []
  },
  {
   "cell_type": "code",
   "execution_count": null,
   "id": "5eece163",
   "metadata": {},
   "outputs": [],
   "source": []
  },
  {
   "cell_type": "code",
   "execution_count": null,
   "id": "9d7bc85d",
   "metadata": {},
   "outputs": [],
   "source": []
  }
 ],
 "metadata": {
  "kernelspec": {
   "display_name": "Python 3",
   "language": "python",
   "name": "python3"
  },
  "language_info": {
   "codemirror_mode": {
    "name": "ipython",
    "version": 3
   },
   "file_extension": ".py",
   "mimetype": "text/x-python",
   "name": "python",
   "nbconvert_exporter": "python",
   "pygments_lexer": "ipython3",
   "version": "3.7.10"
  }
 },
 "nbformat": 4,
 "nbformat_minor": 5
}
