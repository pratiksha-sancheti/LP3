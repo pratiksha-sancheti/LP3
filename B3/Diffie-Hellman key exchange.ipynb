{
 "cells": [
  {
   "cell_type": "markdown",
   "id": "7075b379",
   "metadata": {},
   "source": [
    "YouTube: https://www.youtube.com/watch?v=74_t0oFZMFE"
   ]
  },
  {
   "cell_type": "markdown",
   "id": "b344f0a8",
   "metadata": {},
   "source": [
    "###### Global public elements\n",
    "```\n",
    "q -> prime number\n",
    "alpha -> alpha < q and alpha is primitive root of q\n",
    "```"
   ]
  },
  {
   "cell_type": "markdown",
   "id": "3cb3c664",
   "metadata": {},
   "source": [
    "###### User A Key Generation\n",
    "```\n",
    "Select Private Xa: Xa < q\n",
    "Calculate public Ya: Ya = (alpha^Xa) mod q\n",
    "```"
   ]
  },
  {
   "cell_type": "markdown",
   "id": "be0e5c70",
   "metadata": {},
   "source": [
    "###### User B Key Generation\n",
    "```\n",
    "Select Private Xb: Xb < q\n",
    "Calculate public Yb: Yb = (alpha^Xb) mod q\n",
    "```"
   ]
  },
  {
   "cell_type": "markdown",
   "id": "b40b57b5",
   "metadata": {},
   "source": [
    "###### Calculatioin of Secret Key by User A\n",
    "`K = (Yb)^(Xa) mod q`"
   ]
  },
  {
   "cell_type": "markdown",
   "id": "4489e309",
   "metadata": {},
   "source": [
    "###### Calculatioin of Secret Key by User B\n",
    "`K = (Ya)^(Xb) mod q`"
   ]
  },
  {
   "cell_type": "code",
   "execution_count": 17,
   "id": "3af25d26",
   "metadata": {},
   "outputs": [],
   "source": [
    "# Public Values (Everyone can see this)\n",
    "q = 353\n",
    "alpha = 3"
   ]
  },
  {
   "cell_type": "code",
   "execution_count": 18,
   "id": "98055a95",
   "metadata": {},
   "outputs": [],
   "source": [
    "def calculate_y_value(X: int) -> int:\n",
    "    Y = (alpha ** X) % q\n",
    "    return Y"
   ]
  },
  {
   "cell_type": "code",
   "execution_count": 19,
   "id": "f418630b",
   "metadata": {},
   "outputs": [
    {
     "name": "stdout",
     "output_type": "stream",
     "text": [
      "40\n"
     ]
    }
   ],
   "source": [
    "# User A\n",
    "Xa = 97  # user selection\n",
    "Ya = calculate_y_value(Xa)\n",
    "print(Ya)"
   ]
  },
  {
   "cell_type": "code",
   "execution_count": 20,
   "id": "3b12e198",
   "metadata": {},
   "outputs": [],
   "source": [
    "# User A sends values (q = 353, alpha = 3, Ya = 40) to User B\n",
    "# Anyone can know these values"
   ]
  },
  {
   "cell_type": "code",
   "execution_count": 21,
   "id": "e6ebcb5d",
   "metadata": {},
   "outputs": [
    {
     "name": "stdout",
     "output_type": "stream",
     "text": [
      "248\n"
     ]
    }
   ],
   "source": [
    "# User B\n",
    "Xb = 233\n",
    "Yb = calculate_y_value(Xb)\n",
    "print(Yb)"
   ]
  },
  {
   "cell_type": "code",
   "execution_count": 22,
   "id": "dc599e85",
   "metadata": {},
   "outputs": [],
   "source": [
    "# Send public value back (Yb = 248)"
   ]
  },
  {
   "cell_type": "code",
   "execution_count": 23,
   "id": "1321f907",
   "metadata": {},
   "outputs": [],
   "source": [
    "def generate_key(X: int, Y: int) -> int:\n",
    "    K = (Y ** X) % q\n",
    "    return K"
   ]
  },
  {
   "cell_type": "code",
   "execution_count": 24,
   "id": "a72a3aac",
   "metadata": {},
   "outputs": [
    {
     "name": "stdout",
     "output_type": "stream",
     "text": [
      "160\n",
      "160\n"
     ]
    }
   ],
   "source": [
    "# User A\n",
    "Ka = generate_key(Xa, Yb)\n",
    "print(Ka)\n",
    "\n",
    "# User B\n",
    "Kb = generate_key(Xb, Ya)\n",
    "print(Kb)"
   ]
  },
  {
   "cell_type": "code",
   "execution_count": 25,
   "id": "b7ab02c2",
   "metadata": {},
   "outputs": [],
   "source": [
    "assert Ka == Kb"
   ]
  },
  {
   "cell_type": "code",
   "execution_count": null,
   "id": "75131561",
   "metadata": {},
   "outputs": [],
   "source": []
  }
 ],
 "metadata": {
  "kernelspec": {
   "display_name": "Python 3",
   "language": "python",
   "name": "python3"
  },
  "language_info": {
   "codemirror_mode": {
    "name": "ipython",
    "version": 3
   },
   "file_extension": ".py",
   "mimetype": "text/x-python",
   "name": "python",
   "nbconvert_exporter": "python",
   "pygments_lexer": "ipython3",
   "version": "3.7.10"
  }
 },
 "nbformat": 4,
 "nbformat_minor": 5
}
